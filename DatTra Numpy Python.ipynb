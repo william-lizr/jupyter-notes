{
 "cells": [
  {
   "cell_type": "code",
   "execution_count": 1,
   "id": "c4b216a7",
   "metadata": {},
   "outputs": [],
   "source": [
    "import numpy as np"
   ]
  },
  {
   "cell_type": "code",
   "execution_count": 2,
   "id": "7ac5bb99",
   "metadata": {},
   "outputs": [
    {
     "data": {
      "text/plain": [
       "array([2, 3, 4, 5])"
      ]
     },
     "execution_count": 2,
     "metadata": {},
     "output_type": "execute_result"
    }
   ],
   "source": [
    "np.array([2,3,4,5])\n",
    "\n",
    "## numpy array is number only, because numpy is for numbers specifically"
   ]
  },
  {
   "cell_type": "code",
   "execution_count": 3,
   "id": "5d807fe0",
   "metadata": {},
   "outputs": [
    {
     "data": {
      "text/plain": [
       "list"
      ]
     },
     "execution_count": 3,
     "metadata": {},
     "output_type": "execute_result"
    }
   ],
   "source": [
    "type([5,6,8])"
   ]
  },
  {
   "cell_type": "code",
   "execution_count": 5,
   "id": "d7149c8b",
   "metadata": {},
   "outputs": [
    {
     "name": "stdout",
     "output_type": "stream",
     "text": [
      "int32\n",
      "[2 3 4]\n"
     ]
    }
   ],
   "source": [
    "x = np.array([2,3,4])\n",
    "print(x.dtype)\n",
    "\n",
    "print(x)"
   ]
  },
  {
   "cell_type": "code",
   "execution_count": 12,
   "id": "89604d31",
   "metadata": {},
   "outputs": [
    {
     "name": "stdout",
     "output_type": "stream",
     "text": [
      "float64\n"
     ]
    }
   ],
   "source": [
    "y = np.array([5.5,6.5,4.8], dtype = float)\n",
    "\n",
    "print(y.dtype)"
   ]
  },
  {
   "cell_type": "code",
   "execution_count": 17,
   "id": "87adbb43",
   "metadata": {},
   "outputs": [
    {
     "name": "stdout",
     "output_type": "stream",
     "text": [
      "[[6 8 9]]\n"
     ]
    }
   ],
   "source": [
    "z = np.mat('2,5,4;6,8,9')\n",
    "\n",
    "print(z[1])"
   ]
  },
  {
   "cell_type": "code",
   "execution_count": 30,
   "id": "824b1b3a",
   "metadata": {},
   "outputs": [
    {
     "name": "stdout",
     "output_type": "stream",
     "text": [
      "[[98 78 58 65 98 41 25]\n",
      " [58 48 52 63 94 73 25]]\n",
      "[[98 78 58 65 98 41 25]\n",
      " [58 48 52 63 94 73 25]] \n",
      "\n",
      "success\n"
     ]
    }
   ],
   "source": [
    "a = [98,78,58,65,98,41,25]\n",
    "b = [58,48,52,63,94,73,25]\n",
    "\n",
    "c = np.array([a,b])\n",
    "\n",
    "d = np.asarray(c)\n",
    "\n",
    "print(c)\n",
    "print(d, '\\n')\n",
    "\n",
    "if c.all() == d.all():\n",
    "    print('success')"
   ]
  },
  {
   "cell_type": "code",
   "execution_count": 36,
   "id": "87bcaddc",
   "metadata": {},
   "outputs": [
    {
     "name": "stdout",
     "output_type": "stream",
     "text": [
      "<class 'numpy.ndarray'>\n",
      "14\n",
      "(2, 7)\n",
      "int32\n",
      "2\n"
     ]
    }
   ],
   "source": [
    "a = [98,78,58,65,98,41,25]\n",
    "b = [58,48,52,63,94,73,25]\n",
    "\n",
    "c = np.array([a,b])\n",
    "\n",
    "print(type(c))\n",
    "\n",
    "# datapoint count:\n",
    "print(c.size)\n",
    "\n",
    "# number of dimensions, and the elements along each axis\n",
    "print(c.shape)\n",
    "\n",
    "# number of dimensions\n",
    "print(c.ndim)\n",
    "\n",
    "# data type of each datapoint\n",
    "print(c.dtype)"
   ]
  },
  {
   "cell_type": "code",
   "execution_count": 49,
   "id": "17d4cc4b",
   "metadata": {},
   "outputs": [
    {
     "name": "stdout",
     "output_type": "stream",
     "text": [
      "[2, 3, 4]\n"
     ]
    },
    {
     "data": {
      "text/plain": [
       "array([4. , 3.6, 3.2, 2.8, 2.4, 2. ])"
      ]
     },
     "execution_count": 49,
     "metadata": {},
     "output_type": "execute_result"
    }
   ],
   "source": [
    "# a_range (arange, not arrange) and linspace\n",
    "\n",
    "# base python cannot handle floating point numbers\n",
    "print(list(range(2,5)))\n",
    "\n",
    "\n",
    "# first value, last value, step size\n",
    "a = np.arange(2,10.5,0.4)\n",
    "\n",
    "# again, first, last, step size\n",
    "# goes backward from startpoint to endpoint\n",
    "a[5::-1]\n",
    "# ! for reverse order starting point has to be larger than endpoint !"
   ]
  },
  {
   "cell_type": "code",
   "execution_count": 75,
   "id": "f896152a",
   "metadata": {},
   "outputs": [
    {
     "name": "stdout",
     "output_type": "stream",
     "text": [
      "[ 2.  17.6 33.2 48.8 64.4 80. ]\n",
      "[ 2.  17.6 33.2 48.8 64.4]\n",
      "15.6\n"
     ]
    }
   ],
   "source": [
    "# Numpy linspace\n",
    "# equally space elements in a range of numbers\n",
    "\n",
    "print(np.linspace(2,80,6))\n",
    "\n",
    "new = np.linspace(2,80, 6, endpoint = True, retstep = True)\n",
    "# retstep = retention step (print the distance)\n",
    "newcomer = new[::-1]\n",
    "\n",
    "# here we can achieve a similar thing with the arange command\n",
    "print(np.arange(2,80,newcomer[0]))\n",
    "print(newcomer[0])"
   ]
  },
  {
   "cell_type": "code",
   "execution_count": 88,
   "id": "9115f519",
   "metadata": {},
   "outputs": [
    {
     "name": "stdout",
     "output_type": "stream",
     "text": [
      "[[ 1  2  3  4  5]\n",
      " [ 6  7  8  9 10]\n",
      " [11 12 13 14 15]\n",
      " [16 17 18 19 20]\n",
      " [21 22 23 24 25]\n",
      " [26 27 28 29 30]\n",
      " [31 32 33 34 35]\n",
      " [36 37 38 39 40]\n",
      " [41 42 43 44 45]\n",
      " [46 47 48 49 50]]\n"
     ]
    }
   ],
   "source": [
    "# Numpy matrices\n",
    "\n",
    "# to make a 1d matrix\n",
    "np.zeros(5)\n",
    "np.zeros((5))\n",
    "\n",
    "# to make a 2d matrix\n",
    "np.zeros((5,6))\n",
    "\n",
    "# we can make a blank matrix of ones too\n",
    "np.ones(5)\n",
    "\n",
    "# matrix multiplication to get a blank matrix of any number\n",
    "5 * np.ones((2,3))\n",
    "\n",
    "x = np.arange(1,51).reshape(10,5)\n",
    "print(x)"
   ]
  },
  {
   "cell_type": "code",
   "execution_count": 252,
   "id": "a2ad4007",
   "metadata": {},
   "outputs": [
    {
     "data": {
      "text/plain": [
       "array([[86, 15, 74, 20, 17],\n",
       "       [57,  4, 34, 43, 89],\n",
       "       [86, 33, 71, 10, 11],\n",
       "       [ 8, 74, 63, 10, 97],\n",
       "       [20, 30, 66, 94, 13]])"
      ]
     },
     "execution_count": 252,
     "metadata": {},
     "output_type": "execute_result"
    }
   ],
   "source": [
    "# Generating random numbers\n",
    "\n",
    "# np.random.seed(x)\n",
    "# each seed will generate similar data\n",
    "\n",
    "# np.random.____ \n",
    "# rand() — uniform distribution from ZERO to ONE\n",
    "# randn() — normal distribution\n",
    "# randint() — random integer matrix\n",
    "\n",
    "# call function with dimensions of matrix\n",
    "np.random.rand(10,3)\n",
    "\n",
    "# same - call function with matrix dimensions\n",
    "x = np.random.randn(5,5)\n",
    "\n",
    "\n",
    "# call function, params: low value, high value, numer of datapoints to be selected\n",
    "np.random.randint(0,10,100)\n",
    "\n",
    "# we can also input the sample size as a matrix to make it n-dimensional\n",
    "np.random.randint(0, 100, (5,5))"
   ]
  },
  {
   "cell_type": "code",
   "execution_count": 259,
   "id": "a86b7b49",
   "metadata": {},
   "outputs": [
    {
     "data": {
      "text/plain": [
       "(array([0, 1], dtype=int64),)"
      ]
     },
     "execution_count": 259,
     "metadata": {},
     "output_type": "execute_result"
    }
   ],
   "source": [
    "# Numpy condition\n",
    "# np.clip()\n",
    "# just like 'clipping' in video games etc. this raises number below the bottom\n",
    "# margin to the bottom margin, and number that are above the high margin get\n",
    "# lowered to it\n",
    "\n",
    "# sample list\n",
    "a = [-2,-58,1020,52,68]\n",
    "\n",
    "a = np.clip(a,0,a_max = 100)\n",
    "\n",
    "# number below bottom raise to ZERO\n",
    "# number above lowered to ONE HUNDRED\n",
    "# all other numbers left as they are\n",
    "\n",
    "# give us the indexes of places with a certain condition\n",
    "np.where(a < 10)"
   ]
  },
  {
   "cell_type": "code",
   "execution_count": 261,
   "id": "d5ed9fe1",
   "metadata": {},
   "outputs": [],
   "source": [
    "from numpy.random import randint as ri"
   ]
  },
  {
   "cell_type": "code",
   "execution_count": 274,
   "id": "a130c789",
   "metadata": {},
   "outputs": [
    {
     "name": "stdout",
     "output_type": "stream",
     "text": [
      "d: \n",
      " [29 35 80 15 59 57 89 81 81 20 47  4 14 31 64 14 65 27 60 41 84 62 25  5\n",
      " 39 98 98 45 25 23]\n",
      "\n",
      "\n",
      "e: \n",
      " [[[29 35 80 15 59]\n",
      "  [57 89 81 81 20]\n",
      "  [47  4 14 31 64]]\n",
      "\n",
      " [[14 65 27 60 41]\n",
      "  [84 62 25  5 39]\n",
      "  [98 98 45 25 23]]]\n",
      "\n",
      "\n",
      "new e: \n",
      " [[29 35 80 15 59 57 89 81 81 20]\n",
      " [47  4 14 31 64 14 65 27 60 41]\n",
      " [84 62 25  5 39 98 98 45 25 23]]\n"
     ]
    }
   ],
   "source": [
    "# reshape sort\n",
    "\n",
    "d = ri(1, 99, 30)\n",
    "e = d.reshape(2,3,5)\n",
    "# number of matrices, rows, columns\n",
    "\n",
    "print('d:','\\n', d)\n",
    "print('\\n')\n",
    "print('e:','\\n',e)\n",
    "\n",
    "\n",
    "e = d.reshape(3,10)\n",
    "print('\\n')\n",
    "print('new e:','\\n',e)\n"
   ]
  },
  {
   "cell_type": "code",
   "execution_count": 278,
   "id": "c5fe89ca",
   "metadata": {},
   "outputs": [
    {
     "name": "stdout",
     "output_type": "stream",
     "text": [
      "[[15 20 29 35 57 59 80 81 81 89]\n",
      " [ 4 14 14 27 31 41 47 60 64 65]\n",
      " [ 5 23 25 25 39 45 62 84 98 98]]\n",
      "\n",
      "\n",
      "[[29  4 14  5 39 14 65 27 25 20]\n",
      " [47 35 25 15 59 57 89 45 60 23]\n",
      " [84 62 80 31 64 98 98 81 81 41]]\n"
     ]
    }
   ],
   "source": [
    "# sort data low to high, row-wise\n",
    "print(np.sort(e, axis = 1))\n",
    "# by default axis = 1\n",
    "\n",
    "print('\\n')\n",
    "\n",
    "# sort data low to high, column-wise\n",
    "print(np.sort(e, axis = 0))"
   ]
  },
  {
   "cell_type": "code",
   "execution_count": 293,
   "id": "80ff7266",
   "metadata": {},
   "outputs": [
    {
     "name": "stdout",
     "output_type": "stream",
     "text": [
      "50\n",
      "[[0.  0.2 0.4 0.6 0.8 1.  1.2 1.4 1.6 1.8]\n",
      " [2.  2.2 2.4 2.6 2.8 3.  3.2 3.4 3.6 3.8]\n",
      " [4.  4.2 4.4 4.6 4.8 5.  5.2 5.4 5.6 5.8]\n",
      " [6.  6.2 6.4 6.6 6.8 7.  7.2 7.4 7.6 7.8]\n",
      " [8.  8.2 8.4 8.6 8.8 9.  9.2 9.4 9.6 9.8]] \n",
      "\n",
      "[[1.  1.2 1.4 1.6 1.8]\n",
      " [3.  3.2 3.4 3.6 3.8]\n",
      " [5.  5.2 5.4 5.6 5.8]\n",
      " [7.  7.2 7.4 7.6 7.8]\n",
      " [9.  9.2 9.4 9.6 9.8]]\n",
      "\n",
      "\n",
      "[[4.8 5.  5.2 5.4]\n",
      " [6.8 7.  7.2 7.4]\n",
      " [8.8 9.  9.2 9.4]]\n"
     ]
    }
   ],
   "source": [
    "ar = np.arange(0,10,0.2)\n",
    "print(ar.size)\n",
    "\n",
    "ar = ar.reshape(5,10)\n",
    "\n",
    "print(ar, '\\n')\n",
    "\n",
    "# we want all columns, row SIXTH till LAST\n",
    "# (rows and columns indexed from ZERO)\n",
    "print(ar[:, 5:])\n",
    "\n",
    "print('\\n')\n",
    "\n",
    "# columns TWO till END, rows FIFTH till SEVENTH\n",
    "# !! LAST INDEX ALWAYS EXCLUDED IN OUTPUT, JUST LIKE WITH LINSPACE\n",
    "print(ar[2:,4:8])\n",
    "\n",
    "\n",
    "#!!!\n",
    "# xxx[ g : f ]\n",
    "# —> g included as first index\n",
    "# —> f excluded, but f-1 included as last\n",
    "\n",
    "\n",
    "# xxx[ g , f ]\n",
    "# —> g,f included, because its a list of indexes"
   ]
  },
  {
   "cell_type": "code",
   "execution_count": 296,
   "id": "bbd52e45",
   "metadata": {},
   "outputs": [
    {
     "data": {
      "text/plain": [
       "array([[    0,     2, 10000,     6,     8],\n",
       "       [   10,    12,    14,    16,    18],\n",
       "       [   20,    22,    24,    26,    28],\n",
       "       [   30,    32,    34,    36,    38],\n",
       "       [   40,    42,    44,    46,    48]])"
      ]
     },
     "execution_count": 296,
     "metadata": {},
     "output_type": "execute_result"
    }
   ],
   "source": [
    "# To update data in a matrix\n",
    "\n",
    "x = np.arange(0, 50, 2)\n",
    "y = x.reshape(5,5)\n",
    "\n",
    "\n",
    "# update a spot:\n",
    "y[0,2] = 10000\n",
    "y"
   ]
  },
  {
   "cell_type": "code",
   "execution_count": 345,
   "id": "191e6286",
   "metadata": {},
   "outputs": [
    {
     "name": "stdout",
     "output_type": "stream",
     "text": [
      "[array([[ True,  True,  True,  True, False, False,  True,  True,  True,\n",
      "        False],\n",
      "       [ True, False,  True, False, False,  True,  True, False,  True,\n",
      "        False],\n",
      "       [False, False,  True,  True,  True,  True, False,  True,  True,\n",
      "        False]])] \n",
      "\n",
      "[6657 5216 5401 8143 5399 7219 8837 7491 9007 8505 9954 5143 9796 9076\n",
      " 5987 5022 9431 6606]\n",
      "\n",
      "\n",
      "(array([ 1,  2,  4, 11, 14, 15], dtype=int64),)\n",
      "[5216 5401 5399 5143 5987 5022]\n"
     ]
    }
   ],
   "source": [
    "# Subsetting\n",
    "\n",
    "arr = np.array(ri(10,10000,30)).reshape(3, 10)\n",
    "\n",
    "arr\n",
    "\n",
    "# this makes a boolean matrix\n",
    "xyz = [arr>5000]\n",
    "print(xyz, '\\n')\n",
    "\n",
    "# this multiplies the boolean matrix over the actual matrix to get the desired\n",
    "# data\n",
    "\n",
    "zyx = arr[arr>5000]\n",
    "print(zyx)\n",
    "\n",
    "print('\\n')\n",
    "\n",
    "print(np.where(zyx < 6000))\n",
    "print(zyx[np.where(zyx < 6000)])"
   ]
  },
  {
   "cell_type": "code",
   "execution_count": 357,
   "id": "a3f8933f",
   "metadata": {},
   "outputs": [
    {
     "name": "stdout",
     "output_type": "stream",
     "text": [
      "[[73 62 95 57  9]\n",
      " [25 89 19 76 89]\n",
      " [25 15 70 10 31]\n",
      " [29 68 21 12 95]]\n",
      "\n",
      "\n",
      "[[18  6 65 62 46]\n",
      " [70 34 39 34 24]\n",
      " [28 71 17 70  3]\n",
      " [58 58 85 84 37]]\n",
      "[[1314  372 6175 3534  414]\n",
      " [1750 3026  741 2584 2136]\n",
      " [ 700 1065 1190  700   93]\n",
      " [1682 3944 1785 1008 3515]]\n",
      "[[15768  4464 74100 42408  4968]\n",
      " [21000 36312  8892 31008 25632]\n",
      " [ 8400 12780 14280  8400  1116]\n",
      " [20184 47328 21420 12096 42180]]\n",
      "\n",
      "\n",
      "[[ 55  56  30  -5 -37]\n",
      " [-45  55 -20  42  65]\n",
      " [ -3 -56  53 -60  28]\n",
      " [-29  10 -64 -72  58]]\n",
      "\n",
      "\n",
      "[[ 91  68 160 119  55]\n",
      " [ 95 123  58 110 113]\n",
      " [ 53  86  87  80  34]\n",
      " [ 87 126 106  96 132]]\n"
     ]
    }
   ],
   "source": [
    "# Matrix multiplication\n",
    "x = np.array(ri(0,100,20)).reshape(4,5)\n",
    "y = np.array(ri(0,100,20)).reshape(4,5)\n",
    "\n",
    "print(x)\n",
    "print('\\n')\n",
    "print(y)\n",
    "\n",
    "#multiplication is as easy as this:\n",
    "z = x*y\n",
    "print(z)\n",
    "\n",
    "print((3*x) * (4*y))\n",
    "print('\\n')\n",
    "print(x-y)\n",
    "print('\\n')\n",
    "print(y+x)"
   ]
  },
  {
   "cell_type": "code",
   "execution_count": null,
   "id": "ba7ec446",
   "metadata": {},
   "outputs": [],
   "source": [
    "# Broadcasting — reconciling matrices of different dimensions\n",
    "# acceptable if a dimension is THE SAME, or ONE\n",
    "# [SAME, 1], [1, SAME], [SAME, SAME], [1,1]\n",
    "\n",
    "# TRANSPOSE FUNCTION\n",
    "# __.T"
   ]
  }
 ],
 "metadata": {
  "kernelspec": {
   "display_name": "Python 3 (ipykernel)",
   "language": "python",
   "name": "python3"
  },
  "language_info": {
   "codemirror_mode": {
    "name": "ipython",
    "version": 3
   },
   "file_extension": ".py",
   "mimetype": "text/x-python",
   "name": "python",
   "nbconvert_exporter": "python",
   "pygments_lexer": "ipython3",
   "version": "3.9.13"
  }
 },
 "nbformat": 4,
 "nbformat_minor": 5
}
