{
 "cells": [
  {
   "cell_type": "code",
   "execution_count": null,
   "id": "d5604fc8",
   "metadata": {},
   "outputs": [],
   "source": []
  },
  {
   "cell_type": "code",
   "execution_count": 14,
   "id": "58516958",
   "metadata": {},
   "outputs": [
    {
     "name": "stdout",
     "output_type": "stream",
     "text": [
      "0\n",
      "1\n"
     ]
    }
   ],
   "source": [
    "dict = {'names': ['james', 'christian'], 'surnames': ['andersen', 'nikolaevich']}\n",
    "\n",
    "i = 0\n",
    "\n",
    "while i <= len(dict)-1:\n",
    "    print(i)\n",
    "    i = i+1"
   ]
  },
  {
   "cell_type": "code",
   "execution_count": 19,
   "id": "6790cc4e",
   "metadata": {},
   "outputs": [
    {
     "name": "stdout",
     "output_type": "stream",
     "text": [
      "55\n"
     ]
    }
   ],
   "source": [
    "\n",
    "class Person():\n",
    "\t# constructor:\n",
    "\tdef __init__ (self, name, surname, yob):\n",
    "\t\tself.name = name\n",
    "\t\tself.surname = surname\n",
    "\t\tself.yob = yob\n",
    "\t\n",
    "\t# method\n",
    "\tdef get_age(self, year):\n",
    "\t\treturn year - self.yob\n",
    "\n",
    "john = Person('John', 'Doe', 1968)\n",
    "print(john.get_age(2023))"
   ]
  }
 ],
 "metadata": {
  "kernelspec": {
   "display_name": "Python 3 (ipykernel)",
   "language": "python",
   "name": "python3"
  },
  "language_info": {
   "codemirror_mode": {
    "name": "ipython",
    "version": 3
   },
   "file_extension": ".py",
   "mimetype": "text/x-python",
   "name": "python",
   "nbconvert_exporter": "python",
   "pygments_lexer": "ipython3",
   "version": "3.9.13"
  }
 },
 "nbformat": 4,
 "nbformat_minor": 5
}
