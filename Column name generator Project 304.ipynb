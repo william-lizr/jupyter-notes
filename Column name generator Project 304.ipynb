{
 "cells": [
  {
   "cell_type": "code",
   "execution_count": 6,
   "id": "ac04ecb8",
   "metadata": {},
   "outputs": [],
   "source": [
    "conditions = ['attend' , 'dont attend']\n",
    "measures = ['N1' , 'P2' , 'N1-P2 CURVE']\n",
    "lengths = ['long','short']\n",
    "calculations = [' ' , 'ratio']\n",
    "\n",
    "columnArray = []\n",
    "ratioArray = []"
   ]
  },
  {
   "cell_type": "code",
   "execution_count": 7,
   "id": "b199d48e",
   "metadata": {},
   "outputs": [
    {
     "name": "stdout",
     "output_type": "stream",
     "text": [
      "['attend', 'dont attend']\n",
      "['N1', 'P2', 'N1-P2 CURVE']\n",
      "['long', 'short']\n",
      "[' ', 'ratio']\n"
     ]
    }
   ],
   "source": [
    "print(conditions)\n",
    "print(measures)\n",
    "print(lengths)\n",
    "print(calculations)"
   ]
  },
  {
   "cell_type": "code",
   "execution_count": 8,
   "id": "8385a7cb",
   "metadata": {},
   "outputs": [
    {
     "name": "stdout",
     "output_type": "stream",
     "text": [
      "mine yours\n"
     ]
    }
   ],
   "source": [
    "#string addition\n",
    "string = 'mine'\n",
    "string2 = 'yours'\n",
    "space = ' '\n",
    "\n",
    "say = string + space + string2\n",
    "print(say)"
   ]
  },
  {
   "cell_type": "code",
   "execution_count": 9,
   "id": "31818629",
   "metadata": {},
   "outputs": [
    {
     "name": "stdout",
     "output_type": "stream",
     "text": [
      "['attend long, N1', 'attend short, N1', 'attend long, P2', 'attend short, P2', 'attend long, N1-P2 CURVE', 'attend short, N1-P2 CURVE', 'dont attend long, N1', 'dont attend short, N1', 'dont attend long, P2', 'dont attend short, P2', 'dont attend long, N1-P2 CURVE', 'dont attend short, N1-P2 CURVE', 'attend, ratio N1', 'attend, ratio P2', 'attend, ratio N1-P2 CURVE', 'dont attend, ratio N1', 'dont attend, ratio P2', 'dont attend, ratio N1-P2 CURVE']\n",
      "18\n"
     ]
    }
   ],
   "source": [
    "#parsing a list\n",
    "space = ' '\n",
    "comma = ', '\n",
    "\n",
    "for d in range(len(conditions)):\n",
    "    for f in range(len(measures)):\n",
    "        ratioArray.append(str(conditions[d]+', ratio '+measures[f]))     \n",
    "        for z in range(len(lengths)):\n",
    "            columnArray.append(str(conditions[d]+space+lengths[z]+comma+measures[f]))\n",
    "        \n",
    "finalArray = columnArray + ratioArray\n",
    "print(finalArray)\n",
    "print(len(finalArray))"
   ]
  },
  {
   "cell_type": "code",
   "execution_count": null,
   "id": "9a166c89",
   "metadata": {},
   "outputs": [],
   "source": [
    "print(conditions[x]+comma+measures[y]+' ratio')"
   ]
  },
  {
   "cell_type": "code",
   "execution_count": 10,
   "id": "e4076103",
   "metadata": {},
   "outputs": [],
   "source": [
    "import pandas as pd"
   ]
  },
  {
   "cell_type": "code",
   "execution_count": 12,
   "id": "89fafe29",
   "metadata": {},
   "outputs": [],
   "source": [
    "df1 = pd.DataFrame(columns=finalArray)\n",
    "df1.to_excel(\"myColumns.xlsx\")"
   ]
  },
  {
   "cell_type": "code",
   "execution_count": null,
   "id": "5d672d30",
   "metadata": {},
   "outputs": [],
   "source": []
  }
 ],
 "metadata": {
  "kernelspec": {
   "display_name": "Python 3 (ipykernel)",
   "language": "python",
   "name": "python3"
  },
  "language_info": {
   "codemirror_mode": {
    "name": "ipython",
    "version": 3
   },
   "file_extension": ".py",
   "mimetype": "text/x-python",
   "name": "python",
   "nbconvert_exporter": "python",
   "pygments_lexer": "ipython3",
   "version": "3.9.13"
  }
 },
 "nbformat": 4,
 "nbformat_minor": 5
}
