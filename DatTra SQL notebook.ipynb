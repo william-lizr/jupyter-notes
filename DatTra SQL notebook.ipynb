{
 "cells": [
  {
   "cell_type": "code",
   "execution_count": 4,
   "id": "a795ac3d",
   "metadata": {},
   "outputs": [
    {
     "name": "stdout",
     "output_type": "stream",
     "text": [
      "Requirement already satisfied: mysql in c:\\users\\willi\\anaconda3\\lib\\site-packages (0.0.3)\n",
      "Requirement already satisfied: mysqlclient in c:\\users\\willi\\anaconda3\\lib\\site-packages (from mysql) (2.1.1)\n",
      "Collecting mysql-connector-python\n",
      "  Downloading mysql_connector_python-8.0.33-cp39-cp39-win_amd64.whl (9.6 MB)\n",
      "     ---------------------------------------- 9.6/9.6 MB 8.9 MB/s eta 0:00:00\n",
      "Collecting protobuf<=3.20.3,>=3.11.0\n",
      "  Downloading protobuf-3.20.3-cp39-cp39-win_amd64.whl (904 kB)\n",
      "     -------------------------------------- 904.2/904.2 kB 8.2 MB/s eta 0:00:00\n",
      "Installing collected packages: protobuf, mysql-connector-python\n",
      "Successfully installed mysql-connector-python-8.0.33 protobuf-3.20.3\n"
     ]
    }
   ],
   "source": [
    "!pip install mysql\n",
    "\n",
    "!pip install mysql-connector-python"
   ]
  },
  {
   "cell_type": "code",
   "execution_count": 3,
   "id": "0be7318a",
   "metadata": {},
   "outputs": [],
   "source": [
    "import mysql.connector"
   ]
  },
  {
   "cell_type": "code",
   "execution_count": 15,
   "id": "6a860b17",
   "metadata": {},
   "outputs": [],
   "source": [
    "mydb = mysql.connector.connect(\n",
    "   host=\"localhost\",\n",
    "   user=\"William\",\n",
    "   passwd=\"CartersLegac19\"\n",
    ")"
   ]
  },
  {
   "cell_type": "code",
   "execution_count": 22,
   "id": "7687fb6d",
   "metadata": {},
   "outputs": [
    {
     "name": "stdout",
     "output_type": "stream",
     "text": [
      "<mysql.connector.connection_cext.CMySQLConnection object at 0x000001E55CBADD60>\n"
     ]
    }
   ],
   "source": [
    "print(mydb)"
   ]
  },
  {
   "cell_type": "code",
   "execution_count": 25,
   "id": "82d26798",
   "metadata": {},
   "outputs": [
    {
     "name": "stdout",
     "output_type": "stream",
     "text": [
      "('anewdb',)\n",
      "('information_schema',)\n",
      "('mysql',)\n",
      "('performance_schema',)\n",
      "('sys',)\n",
      "('willdb',)\n",
      "---\n",
      "('table1',)\n",
      "('teamstats',)\n"
     ]
    }
   ],
   "source": [
    "mycursor = mydb.cursor(buffered = True)\n",
    "\n",
    "mycursor.execute(\"SHOW DATABASES\")\n",
    "\n",
    "for x in mycursor:\n",
    "    print(x)\n",
    "    \n",
    "mycursor.execute(\"USE willdb\")\n",
    "mycursor.execute(\"SHOW tables\")\n",
    "\n",
    "print('---')\n",
    "\n",
    "for x in mycursor:\n",
    "    print(x)"
   ]
  },
  {
   "cell_type": "code",
   "execution_count": 24,
   "id": "90bcbf00",
   "metadata": {},
   "outputs": [],
   "source": [
    "mycursor.execute(\"CREATE DATABASE anewdb\")"
   ]
  },
  {
   "cell_type": "code",
   "execution_count": 43,
   "id": "6af21a82",
   "metadata": {},
   "outputs": [
    {
     "name": "stdout",
     "output_type": "stream",
     "text": [
      "('emp_id', b'int', 'NO', '', None, '')\n",
      "('passes', b'int', 'NO', '', None, '')\n",
      "('goals', b'int', 'NO', '', None, '')\n",
      "('assists', b'int', 'NO', '', None, '')\n",
      "(99, 'William')\n",
      "(12, 'Alex')\n"
     ]
    }
   ],
   "source": [
    "adb = mysql.connector.connect(\n",
    "   host=\"localhost\",\n",
    "   user=\"William\",\n",
    "   passwd=\"CartersLegac19\",\n",
    "    database = \"willdb\"\n",
    ")\n",
    "\n",
    "mycursor = adb.cursor(buffered=True)\n",
    "\n",
    "mycursor.execute(\"SHOW TABLES\")\n",
    "\n",
    "mycursor.execute(\"desc teamstats\")\n",
    "\n",
    "for x in mycursor:\n",
    "    print(x)\n",
    "\n",
    "mycursor.execute(\"SELECT * from table1\")\n",
    "\n",
    "\n",
    "for x in mycursor:\n",
    "    print(x)\n"
   ]
  },
  {
   "cell_type": "code",
   "execution_count": 45,
   "id": "a7fa45d2",
   "metadata": {},
   "outputs": [
    {
     "name": "stdout",
     "output_type": "stream",
     "text": [
      "('table1',)\n",
      "('teamstats',)\n",
      "(102, 25, 2, 5)\n"
     ]
    }
   ],
   "source": [
    "\n",
    "\n",
    "twodb = mysql.connector.connect(\n",
    "   host=\"localhost\",\n",
    "   user=\"William\",\n",
    "   passwd=\"CartersLegac19\",\n",
    "    database = \"willdb\"\n",
    ")\n",
    "\n",
    "mycursor = twodb.cursor(buffered=True)\n",
    "\n",
    "sql = \"SHOW TABLES\"\n",
    "\n",
    "\n",
    "mycursor.execute(sql)\n",
    "\n",
    "for x in mycursor:\n",
    "    print(x)\n",
    "\n",
    "    \n",
    "sql = \"INSERT INTO teamstats (emp_id, passes, goals, assists) VALUES ('102', 25, 2, 5)\"\n",
    "\n",
    "mycursor.execute(sql)\n",
    "mycursor.execute(\"SELECT * FROM teamstats\")\n",
    "\n",
    "for x in mycursor:\n",
    "    print(x)\n",
    "\n",
    "\n",
    "\n",
    "\n",
    "\n",
    "\n"
   ]
  },
  {
   "cell_type": "code",
   "execution_count": 1,
   "id": "08b7ba75",
   "metadata": {},
   "outputs": [],
   "source": []
  },
  {
   "cell_type": "code",
   "execution_count": null,
   "id": "f54da285",
   "metadata": {},
   "outputs": [
    {
     "name": "stdout",
     "output_type": "stream",
     "text": [
      "continue? yes: 1, no: 0\n"
     ]
    }
   ],
   "source": [
    "import mysql.connector\n",
    "\n",
    "twodb = mysql.connector.connect(\n",
    "   host=\"localhost\",\n",
    "   user=\"William\",\n",
    "   passwd=\"CartersLegac19\",\n",
    "    database = \"willdb\"\n",
    ")\n",
    "\n",
    "mycursor = twodb.cursor(buffered=True)\n",
    "mycursor.execute(\"SELECT * FROM teamstats\")\n",
    "        \n",
    "fulldata = mycursor.fetchall()        \n",
    "\n",
    "for y in fulldata:\n",
    "    print(y)  \n",
    "\n",
    "while True:\n",
    "    print('continue? yes: 1, no: 0')\n",
    "    x = str(input())\n",
    "    \n",
    "    if x == '0':\n",
    "        break\n",
    "    elif x == '1':\n",
    "        print('Whats the id?')\n",
    "        id = input()\n",
    "\n",
    "        print('How many passes?')\n",
    "        passes = input()\n",
    "    \n",
    "        print('How many goals?')\n",
    "        goals = input()\n",
    "    \n",
    "        print('How many assists?')\n",
    "        assists = input()\n",
    "    \n",
    "        sql = \"INSERT INTO teamstats (emp_id, passes, goals, assists) VALUES (\" + id + \",\" + passes + \",\" + goals + \",\" + assists + \")\"\n",
    "        mycursor.execute(sql)\n",
    "        twodb.commit()\n",
    "\n",
    "    else:\n",
    "        print('invalid command, try again')\n",
    "        continue\n"
   ]
  },
  {
   "cell_type": "code",
   "execution_count": null,
   "id": "26c282fd",
   "metadata": {},
   "outputs": [],
   "source": [
    "mycursor.executemany(sql, value)\n",
    "\n",
    "\n",
    "\n",
    "\n",
    "\n",
    "\n"
   ]
  }
 ],
 "metadata": {
  "kernelspec": {
   "display_name": "Python 3 (ipykernel)",
   "language": "python",
   "name": "python3"
  },
  "language_info": {
   "codemirror_mode": {
    "name": "ipython",
    "version": 3
   },
   "file_extension": ".py",
   "mimetype": "text/x-python",
   "name": "python",
   "nbconvert_exporter": "python",
   "pygments_lexer": "ipython3",
   "version": "3.9.13"
  }
 },
 "nbformat": 4,
 "nbformat_minor": 5
}
